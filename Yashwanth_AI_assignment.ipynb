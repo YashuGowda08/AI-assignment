{
 "cells": [
  {
   "cell_type": "code",
   "execution_count": 3,
   "id": "27b6e40d-202a-47e0-a44c-9e12aa83835e",
   "metadata": {},
   "outputs": [
    {
     "data": {
      "text/html": [
       "<div>\n",
       "<style scoped>\n",
       "    .dataframe tbody tr th:only-of-type {\n",
       "        vertical-align: middle;\n",
       "    }\n",
       "\n",
       "    .dataframe tbody tr th {\n",
       "        vertical-align: top;\n",
       "    }\n",
       "\n",
       "    .dataframe thead th {\n",
       "        text-align: right;\n",
       "    }\n",
       "</style>\n",
       "<table border=\"1\" class=\"dataframe\">\n",
       "  <thead>\n",
       "    <tr style=\"text-align: right;\">\n",
       "      <th></th>\n",
       "      <th>Robot_ID</th>\n",
       "      <th>Task_Type</th>\n",
       "      <th>Component_ID</th>\n",
       "      <th>Sensor_Type</th>\n",
       "      <th>Sensor_Data</th>\n",
       "      <th>Processing_Time (s)</th>\n",
       "      <th>Accuracy (%)</th>\n",
       "      <th>Environmental_Status</th>\n",
       "      <th>Energy_Consumption (kWh)</th>\n",
       "      <th>Human_Intervention_Needed</th>\n",
       "      <th>Obstacle_Detected</th>\n",
       "      <th>Defect_Detected</th>\n",
       "      <th>Interaction_Count</th>\n",
       "      <th>Steps_Walked</th>\n",
       "      <th>Objects_Recognized</th>\n",
       "      <th>Learning_Sessions</th>\n",
       "      <th>Energy_Consumption (kWh).1</th>\n",
       "    </tr>\n",
       "  </thead>\n",
       "  <tbody>\n",
       "    <tr>\n",
       "      <th>0</th>\n",
       "      <td>RBT_001</td>\n",
       "      <td>Inspection</td>\n",
       "      <td>CMP_460</td>\n",
       "      <td>LIDAR</td>\n",
       "      <td>1 (obstacle detected)</td>\n",
       "      <td>67.0</td>\n",
       "      <td>90.4</td>\n",
       "      <td>Stable</td>\n",
       "      <td>2.2</td>\n",
       "      <td>No</td>\n",
       "      <td>Yes</td>\n",
       "      <td>Yes</td>\n",
       "      <td>2</td>\n",
       "      <td>10</td>\n",
       "      <td>2</td>\n",
       "      <td>10</td>\n",
       "      <td>100</td>\n",
       "    </tr>\n",
       "    <tr>\n",
       "      <th>1</th>\n",
       "      <td>RBT_002</td>\n",
       "      <td>Assembly</td>\n",
       "      <td>CMP_252</td>\n",
       "      <td>Thermal</td>\n",
       "      <td>85.3 (°C)</td>\n",
       "      <td>71.2</td>\n",
       "      <td>98.1</td>\n",
       "      <td>Stable</td>\n",
       "      <td>2.7</td>\n",
       "      <td>Yes</td>\n",
       "      <td>No</td>\n",
       "      <td>No</td>\n",
       "      <td>6</td>\n",
       "      <td>23</td>\n",
       "      <td>4</td>\n",
       "      <td>12</td>\n",
       "      <td>123</td>\n",
       "    </tr>\n",
       "    <tr>\n",
       "      <th>2</th>\n",
       "      <td>RBT_003</td>\n",
       "      <td>Inspection</td>\n",
       "      <td>CMP_248</td>\n",
       "      <td>Thermal</td>\n",
       "      <td>92% (visual fit)</td>\n",
       "      <td>49.2</td>\n",
       "      <td>95.3</td>\n",
       "      <td>Unstable</td>\n",
       "      <td>2.4</td>\n",
       "      <td>No</td>\n",
       "      <td>No</td>\n",
       "      <td>No</td>\n",
       "      <td>2</td>\n",
       "      <td>25</td>\n",
       "      <td>3</td>\n",
       "      <td>45</td>\n",
       "      <td>321</td>\n",
       "    </tr>\n",
       "    <tr>\n",
       "      <th>3</th>\n",
       "      <td>RBT_004</td>\n",
       "      <td>Welding</td>\n",
       "      <td>CMP_433</td>\n",
       "      <td>Camera</td>\n",
       "      <td>98% (defect-free)</td>\n",
       "      <td>74.5</td>\n",
       "      <td>90.2</td>\n",
       "      <td>Stable</td>\n",
       "      <td>2.4</td>\n",
       "      <td>Yes</td>\n",
       "      <td>No</td>\n",
       "      <td>Yes</td>\n",
       "      <td>7</td>\n",
       "      <td>34</td>\n",
       "      <td>5</td>\n",
       "      <td>12</td>\n",
       "      <td>456</td>\n",
       "    </tr>\n",
       "    <tr>\n",
       "      <th>4</th>\n",
       "      <td>RBT_005</td>\n",
       "      <td>Assembly</td>\n",
       "      <td>CMP_992</td>\n",
       "      <td>Camera</td>\n",
       "      <td>92% (visual fit)</td>\n",
       "      <td>64.5</td>\n",
       "      <td>97.2</td>\n",
       "      <td>Unstable</td>\n",
       "      <td>1.8</td>\n",
       "      <td>No</td>\n",
       "      <td>No</td>\n",
       "      <td>No</td>\n",
       "      <td>8</td>\n",
       "      <td>35</td>\n",
       "      <td>3</td>\n",
       "      <td>32</td>\n",
       "      <td>654</td>\n",
       "    </tr>\n",
       "    <tr>\n",
       "      <th>...</th>\n",
       "      <td>...</td>\n",
       "      <td>...</td>\n",
       "      <td>...</td>\n",
       "      <td>...</td>\n",
       "      <td>...</td>\n",
       "      <td>...</td>\n",
       "      <td>...</td>\n",
       "      <td>...</td>\n",
       "      <td>...</td>\n",
       "      <td>...</td>\n",
       "      <td>...</td>\n",
       "      <td>...</td>\n",
       "      <td>...</td>\n",
       "      <td>...</td>\n",
       "      <td>...</td>\n",
       "      <td>...</td>\n",
       "      <td>...</td>\n",
       "    </tr>\n",
       "    <tr>\n",
       "      <th>495</th>\n",
       "      <td>RBT_496</td>\n",
       "      <td>Inspection</td>\n",
       "      <td>CMP_834</td>\n",
       "      <td>LIDAR</td>\n",
       "      <td>85.3 (°C)</td>\n",
       "      <td>66.3</td>\n",
       "      <td>96.2</td>\n",
       "      <td>Unstable</td>\n",
       "      <td>1.3</td>\n",
       "      <td>No</td>\n",
       "      <td>Yes</td>\n",
       "      <td>No</td>\n",
       "      <td>4</td>\n",
       "      <td>49</td>\n",
       "      <td>4</td>\n",
       "      <td>49</td>\n",
       "      <td>130</td>\n",
       "    </tr>\n",
       "    <tr>\n",
       "      <th>496</th>\n",
       "      <td>RBT_497</td>\n",
       "      <td>Inspection</td>\n",
       "      <td>CMP_851</td>\n",
       "      <td>LIDAR</td>\n",
       "      <td>92% (visual fit)</td>\n",
       "      <td>45.1</td>\n",
       "      <td>92.8</td>\n",
       "      <td>Unstable</td>\n",
       "      <td>2.3</td>\n",
       "      <td>No</td>\n",
       "      <td>Yes</td>\n",
       "      <td>Yes</td>\n",
       "      <td>5</td>\n",
       "      <td>43</td>\n",
       "      <td>8</td>\n",
       "      <td>56</td>\n",
       "      <td>124</td>\n",
       "    </tr>\n",
       "    <tr>\n",
       "      <th>497</th>\n",
       "      <td>RBT_498</td>\n",
       "      <td>Inspection</td>\n",
       "      <td>CMP_657</td>\n",
       "      <td>LIDAR</td>\n",
       "      <td>82.4 (°C)</td>\n",
       "      <td>75.4</td>\n",
       "      <td>98.7</td>\n",
       "      <td>Unstable</td>\n",
       "      <td>2.6</td>\n",
       "      <td>Yes</td>\n",
       "      <td>No</td>\n",
       "      <td>No</td>\n",
       "      <td>6</td>\n",
       "      <td>23</td>\n",
       "      <td>9</td>\n",
       "      <td>23</td>\n",
       "      <td>107</td>\n",
       "    </tr>\n",
       "    <tr>\n",
       "      <th>498</th>\n",
       "      <td>RBT_499</td>\n",
       "      <td>Assembly</td>\n",
       "      <td>CMP_562</td>\n",
       "      <td>Camera</td>\n",
       "      <td>98% (defect-free)</td>\n",
       "      <td>48.7</td>\n",
       "      <td>94.9</td>\n",
       "      <td>Stable</td>\n",
       "      <td>2.2</td>\n",
       "      <td>No</td>\n",
       "      <td>Yes</td>\n",
       "      <td>No</td>\n",
       "      <td>4</td>\n",
       "      <td>31</td>\n",
       "      <td>3</td>\n",
       "      <td>45</td>\n",
       "      <td>108</td>\n",
       "    </tr>\n",
       "    <tr>\n",
       "      <th>499</th>\n",
       "      <td>RBT_500</td>\n",
       "      <td>Assembly</td>\n",
       "      <td>CMP_465</td>\n",
       "      <td>LIDAR + Camera</td>\n",
       "      <td>75.8 (°C)</td>\n",
       "      <td>73.5</td>\n",
       "      <td>91.4</td>\n",
       "      <td>Stable</td>\n",
       "      <td>2.0</td>\n",
       "      <td>Yes</td>\n",
       "      <td>No</td>\n",
       "      <td>Yes</td>\n",
       "      <td>5</td>\n",
       "      <td>49</td>\n",
       "      <td>2</td>\n",
       "      <td>78</td>\n",
       "      <td>109</td>\n",
       "    </tr>\n",
       "  </tbody>\n",
       "</table>\n",
       "<p>500 rows × 17 columns</p>\n",
       "</div>"
      ],
      "text/plain": [
       "    Robot_ID   Task_Type Component_ID     Sensor_Type            Sensor_Data  \\\n",
       "0    RBT_001  Inspection      CMP_460           LIDAR  1 (obstacle detected)   \n",
       "1    RBT_002    Assembly      CMP_252         Thermal              85.3 (°C)   \n",
       "2    RBT_003  Inspection      CMP_248         Thermal       92% (visual fit)   \n",
       "3    RBT_004     Welding      CMP_433          Camera      98% (defect-free)   \n",
       "4    RBT_005    Assembly      CMP_992          Camera       92% (visual fit)   \n",
       "..       ...         ...          ...             ...                    ...   \n",
       "495  RBT_496  Inspection      CMP_834           LIDAR              85.3 (°C)   \n",
       "496  RBT_497  Inspection      CMP_851           LIDAR       92% (visual fit)   \n",
       "497  RBT_498  Inspection      CMP_657           LIDAR              82.4 (°C)   \n",
       "498  RBT_499    Assembly      CMP_562          Camera      98% (defect-free)   \n",
       "499  RBT_500    Assembly      CMP_465  LIDAR + Camera              75.8 (°C)   \n",
       "\n",
       "     Processing_Time (s)  Accuracy (%) Environmental_Status  \\\n",
       "0                   67.0          90.4               Stable   \n",
       "1                   71.2          98.1               Stable   \n",
       "2                   49.2          95.3             Unstable   \n",
       "3                   74.5          90.2               Stable   \n",
       "4                   64.5          97.2             Unstable   \n",
       "..                   ...           ...                  ...   \n",
       "495                 66.3          96.2             Unstable   \n",
       "496                 45.1          92.8             Unstable   \n",
       "497                 75.4          98.7             Unstable   \n",
       "498                 48.7          94.9               Stable   \n",
       "499                 73.5          91.4               Stable   \n",
       "\n",
       "     Energy_Consumption (kWh) Human_Intervention_Needed Obstacle_Detected  \\\n",
       "0                         2.2                        No               Yes   \n",
       "1                         2.7                       Yes                No   \n",
       "2                         2.4                        No                No   \n",
       "3                         2.4                       Yes                No   \n",
       "4                         1.8                        No                No   \n",
       "..                        ...                       ...               ...   \n",
       "495                       1.3                        No               Yes   \n",
       "496                       2.3                        No               Yes   \n",
       "497                       2.6                       Yes                No   \n",
       "498                       2.2                        No               Yes   \n",
       "499                       2.0                       Yes                No   \n",
       "\n",
       "    Defect_Detected  Interaction_Count  Steps_Walked  Objects_Recognized  \\\n",
       "0               Yes                  2            10                   2   \n",
       "1                No                  6            23                   4   \n",
       "2                No                  2            25                   3   \n",
       "3               Yes                  7            34                   5   \n",
       "4                No                  8            35                   3   \n",
       "..              ...                ...           ...                 ...   \n",
       "495              No                  4            49                   4   \n",
       "496             Yes                  5            43                   8   \n",
       "497              No                  6            23                   9   \n",
       "498              No                  4            31                   3   \n",
       "499             Yes                  5            49                   2   \n",
       "\n",
       "     Learning_Sessions  Energy_Consumption (kWh).1  \n",
       "0                   10                         100  \n",
       "1                   12                         123  \n",
       "2                   45                         321  \n",
       "3                   12                         456  \n",
       "4                   32                         654  \n",
       "..                 ...                         ...  \n",
       "495                 49                         130  \n",
       "496                 56                         124  \n",
       "497                 23                         107  \n",
       "498                 45                         108  \n",
       "499                 78                         109  \n",
       "\n",
       "[500 rows x 17 columns]"
      ]
     },
     "execution_count": 3,
     "metadata": {},
     "output_type": "execute_result"
    }
   ],
   "source": [
    "#3rd question\n",
    "import pandas as pd\n",
    "df=pd.read_csv(\"robot_dataset(robot_dataset)_1(in).csv\")\n",
    "df"
   ]
  },
  {
   "cell_type": "code",
   "execution_count": 4,
   "id": "866a520f-a61e-4139-bc77-5d2a673d82f4",
   "metadata": {},
   "outputs": [
    {
     "name": "stdout",
     "output_type": "stream",
     "text": [
      "<class 'pandas.core.frame.DataFrame'>\n",
      "RangeIndex: 500 entries, 0 to 499\n",
      "Data columns (total 17 columns):\n",
      " #   Column                      Non-Null Count  Dtype  \n",
      "---  ------                      --------------  -----  \n",
      " 0   Robot_ID                    500 non-null    object \n",
      " 1   Task_Type                   500 non-null    object \n",
      " 2   Component_ID                500 non-null    object \n",
      " 3   Sensor_Type                 500 non-null    object \n",
      " 4   Sensor_Data                 500 non-null    object \n",
      " 5   Processing_Time (s)         500 non-null    float64\n",
      " 6   Accuracy (%)                500 non-null    float64\n",
      " 7   Environmental_Status        500 non-null    object \n",
      " 8   Energy_Consumption (kWh)    500 non-null    float64\n",
      " 9   Human_Intervention_Needed   500 non-null    object \n",
      " 10  Obstacle_Detected           500 non-null    object \n",
      " 11  Defect_Detected             500 non-null    object \n",
      " 12  Interaction_Count           500 non-null    int64  \n",
      " 13  Steps_Walked                500 non-null    int64  \n",
      " 14  Objects_Recognized          500 non-null    int64  \n",
      " 15  Learning_Sessions           500 non-null    int64  \n",
      " 16  Energy_Consumption (kWh).1  500 non-null    int64  \n",
      "dtypes: float64(3), int64(5), object(9)\n",
      "memory usage: 66.5+ KB\n"
     ]
    }
   ],
   "source": [
    "df.info()"
   ]
  },
  {
   "cell_type": "code",
   "execution_count": 5,
   "id": "2479a508-ef7b-4e5d-a8cb-241c11c6a48d",
   "metadata": {},
   "outputs": [
    {
     "data": {
      "text/html": [
       "<div>\n",
       "<style scoped>\n",
       "    .dataframe tbody tr th:only-of-type {\n",
       "        vertical-align: middle;\n",
       "    }\n",
       "\n",
       "    .dataframe tbody tr th {\n",
       "        vertical-align: top;\n",
       "    }\n",
       "\n",
       "    .dataframe thead th {\n",
       "        text-align: right;\n",
       "    }\n",
       "</style>\n",
       "<table border=\"1\" class=\"dataframe\">\n",
       "  <thead>\n",
       "    <tr style=\"text-align: right;\">\n",
       "      <th></th>\n",
       "      <th>Processing_Time (s)</th>\n",
       "      <th>Accuracy (%)</th>\n",
       "      <th>Energy_Consumption (kWh)</th>\n",
       "      <th>Interaction_Count</th>\n",
       "      <th>Steps_Walked</th>\n",
       "      <th>Objects_Recognized</th>\n",
       "      <th>Learning_Sessions</th>\n",
       "      <th>Energy_Consumption (kWh).1</th>\n",
       "    </tr>\n",
       "  </thead>\n",
       "  <tbody>\n",
       "    <tr>\n",
       "      <th>count</th>\n",
       "      <td>500.000000</td>\n",
       "      <td>500.000000</td>\n",
       "      <td>500.000000</td>\n",
       "      <td>500.000000</td>\n",
       "      <td>500.000000</td>\n",
       "      <td>500.000000</td>\n",
       "      <td>500.000000</td>\n",
       "      <td>500.000000</td>\n",
       "    </tr>\n",
       "    <tr>\n",
       "      <th>mean</th>\n",
       "      <td>59.937000</td>\n",
       "      <td>94.920600</td>\n",
       "      <td>2.014000</td>\n",
       "      <td>5.510000</td>\n",
       "      <td>28.758000</td>\n",
       "      <td>4.650000</td>\n",
       "      <td>35.960000</td>\n",
       "      <td>236.250000</td>\n",
       "    </tr>\n",
       "    <tr>\n",
       "      <th>std</th>\n",
       "      <td>11.688808</td>\n",
       "      <td>2.900949</td>\n",
       "      <td>0.582789</td>\n",
       "      <td>2.486416</td>\n",
       "      <td>11.094757</td>\n",
       "      <td>2.521948</td>\n",
       "      <td>19.797532</td>\n",
       "      <td>146.681008</td>\n",
       "    </tr>\n",
       "    <tr>\n",
       "      <th>min</th>\n",
       "      <td>40.100000</td>\n",
       "      <td>90.000000</td>\n",
       "      <td>1.000000</td>\n",
       "      <td>0.000000</td>\n",
       "      <td>0.000000</td>\n",
       "      <td>0.000000</td>\n",
       "      <td>10.000000</td>\n",
       "      <td>100.000000</td>\n",
       "    </tr>\n",
       "    <tr>\n",
       "      <th>25%</th>\n",
       "      <td>49.675000</td>\n",
       "      <td>92.500000</td>\n",
       "      <td>1.500000</td>\n",
       "      <td>3.000000</td>\n",
       "      <td>22.000000</td>\n",
       "      <td>2.750000</td>\n",
       "      <td>20.000000</td>\n",
       "      <td>119.500000</td>\n",
       "    </tr>\n",
       "    <tr>\n",
       "      <th>50%</th>\n",
       "      <td>59.600000</td>\n",
       "      <td>94.900000</td>\n",
       "      <td>2.000000</td>\n",
       "      <td>6.000000</td>\n",
       "      <td>29.000000</td>\n",
       "      <td>5.000000</td>\n",
       "      <td>31.000000</td>\n",
       "      <td>181.500000</td>\n",
       "    </tr>\n",
       "    <tr>\n",
       "      <th>75%</th>\n",
       "      <td>70.000000</td>\n",
       "      <td>97.500000</td>\n",
       "      <td>2.500000</td>\n",
       "      <td>7.000000</td>\n",
       "      <td>36.000000</td>\n",
       "      <td>7.000000</td>\n",
       "      <td>49.000000</td>\n",
       "      <td>320.250000</td>\n",
       "    </tr>\n",
       "    <tr>\n",
       "      <th>max</th>\n",
       "      <td>80.000000</td>\n",
       "      <td>99.900000</td>\n",
       "      <td>3.000000</td>\n",
       "      <td>12.000000</td>\n",
       "      <td>49.000000</td>\n",
       "      <td>9.000000</td>\n",
       "      <td>91.000000</td>\n",
       "      <td>654.000000</td>\n",
       "    </tr>\n",
       "  </tbody>\n",
       "</table>\n",
       "</div>"
      ],
      "text/plain": [
       "       Processing_Time (s)  Accuracy (%)  Energy_Consumption (kWh)  \\\n",
       "count           500.000000    500.000000                500.000000   \n",
       "mean             59.937000     94.920600                  2.014000   \n",
       "std              11.688808      2.900949                  0.582789   \n",
       "min              40.100000     90.000000                  1.000000   \n",
       "25%              49.675000     92.500000                  1.500000   \n",
       "50%              59.600000     94.900000                  2.000000   \n",
       "75%              70.000000     97.500000                  2.500000   \n",
       "max              80.000000     99.900000                  3.000000   \n",
       "\n",
       "       Interaction_Count  Steps_Walked  Objects_Recognized  Learning_Sessions  \\\n",
       "count         500.000000    500.000000          500.000000         500.000000   \n",
       "mean            5.510000     28.758000            4.650000          35.960000   \n",
       "std             2.486416     11.094757            2.521948          19.797532   \n",
       "min             0.000000      0.000000            0.000000          10.000000   \n",
       "25%             3.000000     22.000000            2.750000          20.000000   \n",
       "50%             6.000000     29.000000            5.000000          31.000000   \n",
       "75%             7.000000     36.000000            7.000000          49.000000   \n",
       "max            12.000000     49.000000            9.000000          91.000000   \n",
       "\n",
       "       Energy_Consumption (kWh).1  \n",
       "count                  500.000000  \n",
       "mean                   236.250000  \n",
       "std                    146.681008  \n",
       "min                    100.000000  \n",
       "25%                    119.500000  \n",
       "50%                    181.500000  \n",
       "75%                    320.250000  \n",
       "max                    654.000000  "
      ]
     },
     "execution_count": 5,
     "metadata": {},
     "output_type": "execute_result"
    }
   ],
   "source": [
    "df.describe()"
   ]
  },
  {
   "cell_type": "code",
   "execution_count": 7,
   "id": "42245137-37a8-4077-90ac-a479e6b6f895",
   "metadata": {},
   "outputs": [
    {
     "name": "stdout",
     "output_type": "stream",
     "text": [
      "Correlation between steps and energy consumption: 0.0015478137393314158\n"
     ]
    }
   ],
   "source": [
    "correlation = df['Steps_Walked'].corr(df['Energy_Consumption (kWh)']) #correlation between the number of steps walked and energy consumption.\n",
    "print(\"Correlation between steps and energy consumption:\", correlation)"
   ]
  },
  {
   "cell_type": "code",
   "execution_count": 8,
   "id": "546bf876-93be-4d02-81dd-c39d3648f5b8",
   "metadata": {},
   "outputs": [
    {
     "data": {
      "text/plain": [
       "<Axes: title={'center': 'Distribution of Objects Recognized Daily'}, ylabel='Frequency'>"
      ]
     },
     "execution_count": 8,
     "metadata": {},
     "output_type": "execute_result"
    },
    {
     "data": {
      "image/png": "[encoded data removed]",
      "text/plain": [
       "<Figure size 640x480 with 1 Axes>"
      ]
     },
     "metadata": {},
     "output_type": "display_data"
    }
   ],
   "source": [
    "#distribution of objects recognized daily (Histogram plot).\n",
    "df['Objects_Recognized'].plot(kind='hist', bins=30, edgecolor='black', title='Distribution of Objects Recognized Daily')"
   ]
  },
  {
   "cell_type": "code",
   "execution_count": 10,
   "id": "2f90369b-13ce-493d-bd57-6aca2525b9f5",
   "metadata": {},
   "outputs": [
    {
     "name": "stdout",
     "output_type": "stream",
     "text": [
      "Variance in the number of learning sessions: 391.9422845691385\n"
     ]
    }
   ],
   "source": [
    "#variance in the number of learning sessions.\n",
    "variance = df['Learning_Sessions'].var()\n",
    "print(\"Variance in the number of learning sessions:\", variance)"
   ]
  },
  {
   "cell_type": "code",
   "execution_count": 13,
   "id": "941cf613-4330-4e0c-a83f-709de669421e",
   "metadata": {},
   "outputs": [
    {
     "name": "stdout",
     "output_type": "stream",
     "text": [
      "Mean:  22.3 \n",
      "\n",
      "Median:  21.0 \n",
      "\n",
      "Mode:  15 \n",
      "\n",
      "Variance:  40.67777777777778 \n",
      "\n",
      "Standard Deviation:  22.3\n"
     ]
    }
   ],
   "source": [
    "#2nd question\n",
    "import pandas as pd\n",
    "df=[15,21,29,21,15,24,32,21,15,30]\n",
    "df_series=pd.Series(df)\n",
    "a=df_series.mean()\n",
    "print(\"Mean: \",a,\"\\n\")\n",
    "b=df_series.median()\n",
    "print(\"Median: \",b,\"\\n\")\n",
    "c=df_series.mode()[0]\n",
    "print(\"Mode: \",c,\"\\n\")\n",
    "d=df_series.var()\n",
    "print(\"Variance: \",d,\"\\n\")\n",
    "e=df_series.std()\n",
    "print(\"Standard Deviation: \",a)"
   ]
  },
  {
   "cell_type": "code",
   "execution_count": 31,
   "id": "790ef255-5f2c-441a-b6d6-e23e5d87d2ac",
   "metadata": {},
   "outputs": [
    {
     "name": "stdout",
     "output_type": "stream",
     "text": [
      "Hello, my name is John. I am 25 years old, my height is 5.9 feet, and it is True that I am a student.\n"
     ]
    }
   ],
   "source": [
    "#4th question\n",
    "name = \"John\"\n",
    "age = 25\n",
    "height = 5.9\n",
    "is_student = True\n",
    "print(f\"Hello, my name is {name}. I am {age} years old, my height is {height} feet, and it is {is_student} that I am a student.\")\n"
   ]
  },
  {
   "cell_type": "code",
   "execution_count": 1,
   "id": "3d12b631-d4a9-4ec3-8163-72f7ed9e3266",
   "metadata": {},
   "outputs": [
    {
     "name": "stdin",
     "output_type": "stream",
     "text": [
      "Enter a number:  5\n"
     ]
    },
    {
     "name": "stdout",
     "output_type": "stream",
     "text": [
      "Positive number\n"
     ]
    }
   ],
   "source": [
    "#5th question\n",
    "num = float(input(\"Enter a number: \"))\n",
    "if num > 0:\n",
    "   print(\"Positive number\")\n",
    "elif num == 0:\n",
    "   print(\"Zero\")\n",
    "else:\n",
    "   print(\"Negative number\")"
   ]
  },
  {
   "cell_type": "code",
   "execution_count": 2,
   "id": "21d7ce70-972b-4ede-94d9-19604c2c287f",
   "metadata": {},
   "outputs": [
    {
     "name": "stdin",
     "output_type": "stream",
     "text": [
      " 6\n"
     ]
    },
    {
     "name": "stdout",
     "output_type": "stream",
     "text": [
      "6 X 1 = 6\n",
      "6 X 2 = 12\n",
      "6 X 3 = 18\n",
      "6 X 4 = 24\n",
      "6 X 5 = 30\n",
      "6 X 6 = 36\n",
      "6 X 7 = 42\n",
      "6 X 8 = 48\n",
      "6 X 9 = 54\n",
      "6 X 10 = 60\n"
     ]
    }
   ],
   "source": [
    "#6th question\n",
    "b=int(input())\n",
    "for i in range(1,11):\n",
    "    y=b*i\n",
    "    print(b,\"X\",i,\"=\",y)"
   ]
  },
  {
   "cell_type": "code",
   "execution_count": 3,
   "id": "47c7904e-6020-46b0-a1b1-21a986071b31",
   "metadata": {},
   "outputs": [
    {
     "name": "stdout",
     "output_type": "stream",
     "text": [
      "Apple\n",
      "Grapes\n",
      "['Apple', 'Banana', 'Pineapple', 'Mango']\n"
     ]
    }
   ],
   "source": [
    "#7th question\n",
    "fruits=['Apple','Banana','Pineapple','Mango','Grapes']\n",
    "print(fruits[0])\n",
    "print(fruits[-1])\n",
    "print(fruits[0:4])"
   ]
  },
  {
   "cell_type": "code",
   "execution_count": 4,
   "id": "195ad21b-9cc5-48e3-9895-039f27a7b9ed",
   "metadata": {},
   "outputs": [
    {
     "name": "stdout",
     "output_type": "stream",
     "text": [
      "1\n",
      "5\n",
      "(2, 3)\n"
     ]
    }
   ],
   "source": [
    "#8th question\n",
    "nu=(1,2,3,4,5)\n",
    "print(nu[0])\n",
    "print(nu[-1])\n",
    "print(nu[1:3])"
   ]
  },
  {
   "cell_type": "code",
   "execution_count": 5,
   "id": "a924ed97-ec4f-4f58-8596-83102d2464b7",
   "metadata": {},
   "outputs": [
    {
     "name": "stdout",
     "output_type": "stream",
     "text": [
      "55\n",
      "77\n",
      "dict_keys(['Yash', 'Kush', 'Kichcha'])\n",
      "dict_values([55, 77, 90])\n"
     ]
    }
   ],
   "source": [
    "#9th question\n",
    "Marks={\"Yash\": 55, \"Kush\": 77, \"Kichcha\": 90}\n",
    "print(Marks[\"Yash\"])\n",
    "print(Marks.get(\"Kush\"))\n",
    "print(Marks.keys())\n",
    "print(Marks.values())"
   ]
  },
  {
   "cell_type": "code",
   "execution_count": 8,
   "id": "ca66cc21-1a7b-41dd-9b7b-ac180ee2f4fc",
   "metadata": {},
   "outputs": [
    {
     "name": "stdout",
     "output_type": "stream",
     "text": [
      "269\n",
      "201\n",
      "6.911764705882353\n",
      "6\n",
      "7990\n"
     ]
    }
   ],
   "source": [
    "#10th question\n",
    "num1 = 235\n",
    "num2 = 34\n",
    "print(num1 + num2) \n",
    "print(num1 - num2)\n",
    "print(num1 / num2)\n",
    "print(num1//num2)\n",
    "print(num1*num2)"
   ]
  },
  {
   "cell_type": "code",
   "execution_count": 9,
   "id": "f44fa6ea-20c6-4821-ac05-02c4698a0452",
   "metadata": {},
   "outputs": [
    {
     "data": {
      "text/plain": [
       "7"
      ]
     },
     "execution_count": 9,
     "metadata": {},
     "output_type": "execute_result"
    }
   ],
   "source": [
    "#11th question\n",
    "def find_largest(l1) -> int:\n",
    "  return max(l1)\n",
    "l1 = [2,3,4,5,6,7]\n",
    "find_largest(l1)"
   ]
  },
  {
   "cell_type": "code",
   "execution_count": 10,
   "id": "4ddf9aaf-56c4-4caf-940d-39d56b222f4a",
   "metadata": {},
   "outputs": [
    {
     "data": {
      "text/plain": [
       "[4, 16, 36, 64, 100, 144, 196, 256, 324, 400]"
      ]
     },
     "execution_count": 10,
     "metadata": {},
     "output_type": "execute_result"
    }
   ],
   "source": [
    "#12th question\n",
    "sq= [value**2 for value in range(1 , 21) if value % 2 ==  0 ]\n",
    "sq"
   ]
  },
  {
   "cell_type": "code",
   "execution_count": 11,
   "id": "7ad49796-a84c-4ac1-b8b7-9996b4ed5ae9",
   "metadata": {},
   "outputs": [
    {
     "data": {
      "text/plain": [
       "782"
      ]
     },
     "execution_count": 11,
     "metadata": {},
     "output_type": "execute_result"
    }
   ],
   "source": [
    "#13th question\n",
    "fun=lambda x,y:x*y\n",
    "fun(23,34)"
   ]
  },
  {
   "cell_type": "code",
   "execution_count": 13,
   "id": "001b3d8e-13a9-45c1-bba6-201a21579de4",
   "metadata": {},
   "outputs": [
    {
     "name": "stdout",
     "output_type": "stream",
     "text": [
      "1D Shape: (5,) Dimensions: 1\n",
      "2D Shape: (2, 3) Dimensions: 2\n",
      "3D Shape: (2, 2, 2) Dimensions: 3\n"
     ]
    }
   ],
   "source": [
    "#14th question\n",
    "import numpy as np\n",
    "a1d = np.array([1, 2, 3, 4, 5])\n",
    "a2d = np.array([[1, 2, 3], [4, 5, 6]])\n",
    "a3d = np.array([[[1, 2], [3, 4]], [[5, 6], [7, 8]]])\n",
    "print(\"1D Shape:\",a1d.shape, \"Dimensions:\", a1d.ndim)\n",
    "print(\"2D Shape:\", a2d.shape, \"Dimensions:\", a2d.ndim)\n",
    "print(\"3D Shape:\", a3d.shape, \"Dimensions:\", a3d.ndim)"
   ]
  },
  {
   "cell_type": "code",
   "execution_count": 14,
   "id": "cfbef271-61b8-4f15-81ce-92a508bd7db4",
   "metadata": {},
   "outputs": [
    {
     "data": {
      "text/plain": [
       "array([[0.7757861 , 0.20092288, 0.84569257, 0.27172788, 0.76177874],\n",
       "       [0.26219127, 0.29009886, 0.6852867 , 0.00948388, 0.40737139],\n",
       "       [0.7280821 , 0.63434076, 0.82979378, 0.6358837 , 0.154209  ],\n",
       "       [0.48278965, 0.95307867, 0.29976279, 0.55807454, 0.24043295],\n",
       "       [0.39726016, 0.36975697, 0.72121873, 0.67983873, 0.62625972]])"
      ]
     },
     "execution_count": 14,
     "metadata": {},
     "output_type": "execute_result"
    }
   ],
   "source": [
    "#15th question\n",
    "np.random.random((5, 5))"
   ]
  },
  {
   "cell_type": "code",
   "execution_count": 16,
   "id": "8314e0db-776a-4ea8-9724-8fc0f363cc79",
   "metadata": {},
   "outputs": [
    {
     "data": {
      "text/plain": [
       "array([[ 5,  6],\n",
       "       [ 9, 10],\n",
       "       [13, 14]])"
      ]
     },
     "execution_count": 16,
     "metadata": {},
     "output_type": "execute_result"
    }
   ],
   "source": [
    "#16th question\n",
    "y=np.arange(1, 17).reshape(4, 4)\n",
    "y[1:,:2]"
   ]
  },
  {
   "cell_type": "code",
   "execution_count": 19,
   "id": "6bcd6e6f-05d4-44a4-8e78-7319a209c571",
   "metadata": {},
   "outputs": [
    {
     "name": "stdout",
     "output_type": "stream",
     "text": [
      "[[ 0  1]\n",
      " [ 2  3]\n",
      " [ 4  5]\n",
      " [ 6  7]\n",
      " [ 8  9]\n",
      " [10 11]] \n",
      "\n",
      "[[[ 0  1]\n",
      "  [ 2  3]\n",
      "  [ 4  5]]\n",
      "\n",
      " [[ 6  7]\n",
      "  [ 8  9]\n",
      "  [10 11]]] \n",
      "\n",
      "[ 0  1  2  3  4  5  6  7  8  9 10 11] \n",
      "\n"
     ]
    }
   ],
   "source": [
    "#17th question\n",
    "a2d = np.arange(12).reshape(6, 2)\n",
    "a3d = a2d.reshape(2, 3, 2)\n",
    "a3= a3d.flatten()\n",
    "print(a2d,\"\\n\")\n",
    "print(a3d,\"\\n\")\n",
    "print(a3,\"\\n\")"
   ]
  },
  {
   "cell_type": "code",
   "execution_count": 22,
   "id": "ef18eb48-cc65-42a6-b7a4-015ada3e4231",
   "metadata": {},
   "outputs": [
    {
     "data": {
      "text/plain": [
       "array([[ 0,  2,  4],\n",
       "       [ 6,  8, 10],\n",
       "       [12, 14, 16]])"
      ]
     },
     "execution_count": 22,
     "metadata": {},
     "output_type": "execute_result"
    }
   ],
   "source": [
    "#18th question\n",
    "arr1 = np.arange(9).reshape(3 , 3)\n",
    "arr2 = np.arange(3).reshape(1 , 3)\n",
    "arr1 + arr2"
   ]
  },
  {
   "cell_type": "code",
   "execution_count": 23,
   "id": "fbed8128-ff97-4a1a-a35e-fbc4b7b8544c",
   "metadata": {},
   "outputs": [
    {
     "data": {
      "text/plain": [
       "array([[ 0,  2,  4],\n",
       "       [ 6,  8, 10],\n",
       "       [12, 14, 16]])"
      ]
     },
     "execution_count": 23,
     "metadata": {},
     "output_type": "execute_result"
    }
   ],
   "source": [
    "#19th question\n",
    "arr1 = np.arange(9).reshape(3 , 3)\n",
    "arr2 = np.arange(9).reshape(3 , 3)\n",
    "arr1+arr2"
   ]
  },
  {
   "cell_type": "code",
   "execution_count": 24,
   "id": "2de47b8c-5e28-4ad5-a4d5-47be6a95fab6",
   "metadata": {},
   "outputs": [
    {
     "data": {
      "text/plain": [
       "array([[ 0,  1,  4],\n",
       "       [ 9, 16, 25],\n",
       "       [36, 49, 64]])"
      ]
     },
     "execution_count": 24,
     "metadata": {},
     "output_type": "execute_result"
    }
   ],
   "source": [
    "arr1*arr2"
   ]
  },
  {
   "cell_type": "code",
   "execution_count": 25,
   "id": "0c51563f-776d-44c9-b168-a00ed6e76c46",
   "metadata": {},
   "outputs": [
    {
     "name": "stderr",
     "output_type": "stream",
     "text": [
      "C:\\Users\\YASHWANTH M GOWDA\\AppData\\Local\\Temp\\ipykernel_16324\\1293873619.py:1: RuntimeWarning: divide by zero encountered in floor_divide\n",
      "  arr1//arr2\n"
     ]
    },
    {
     "data": {
      "text/plain": [
       "array([[0, 1, 1],\n",
       "       [1, 1, 1],\n",
       "       [1, 1, 1]])"
      ]
     },
     "execution_count": 25,
     "metadata": {},
     "output_type": "execute_result"
    }
   ],
   "source": [
    "arr1//arr2"
   ]
  },
  {
   "cell_type": "code",
   "execution_count": 26,
   "id": "147d5b54-c30c-4239-89c9-85a984b0f69d",
   "metadata": {},
   "outputs": [
    {
     "data": {
      "text/plain": [
       "array([[0, 0, 0],\n",
       "       [0, 0, 0],\n",
       "       [0, 0, 0]])"
      ]
     },
     "execution_count": 26,
     "metadata": {},
     "output_type": "execute_result"
    }
   ],
   "source": [
    "arr1-arr2"
   ]
  },
  {
   "cell_type": "code",
   "execution_count": 28,
   "id": "46f74218-5294-4662-8969-9f1f3aea735c",
   "metadata": {},
   "outputs": [
    {
     "data": {
      "text/html": [
       "<div>\n",
       "<style scoped>\n",
       "    .dataframe tbody tr th:only-of-type {\n",
       "        vertical-align: middle;\n",
       "    }\n",
       "\n",
       "    .dataframe tbody tr th {\n",
       "        vertical-align: top;\n",
       "    }\n",
       "\n",
       "    .dataframe thead th {\n",
       "        text-align: right;\n",
       "    }\n",
       "</style>\n",
       "<table border=\"1\" class=\"dataframe\">\n",
       "  <thead>\n",
       "    <tr style=\"text-align: right;\">\n",
       "      <th></th>\n",
       "      <th>Name</th>\n",
       "      <th>math</th>\n",
       "      <th>ss</th>\n",
       "      <th>DSA</th>\n",
       "    </tr>\n",
       "  </thead>\n",
       "  <tbody>\n",
       "    <tr>\n",
       "      <th>0</th>\n",
       "      <td>Arun</td>\n",
       "      <td>67</td>\n",
       "      <td>88</td>\n",
       "      <td>78</td>\n",
       "    </tr>\n",
       "    <tr>\n",
       "      <th>1</th>\n",
       "      <td>Amog</td>\n",
       "      <td>77</td>\n",
       "      <td>78</td>\n",
       "      <td>90</td>\n",
       "    </tr>\n",
       "    <tr>\n",
       "      <th>2</th>\n",
       "      <td>ROhan</td>\n",
       "      <td>78</td>\n",
       "      <td>66</td>\n",
       "      <td>97</td>\n",
       "    </tr>\n",
       "  </tbody>\n",
       "</table>\n",
       "</div>"
      ],
      "text/plain": [
       "    Name  math  ss  DSA\n",
       "0   Arun    67  88   78\n",
       "1   Amog    77  78   90\n",
       "2  ROhan    78  66   97"
      ]
     },
     "execution_count": 28,
     "metadata": {},
     "output_type": "execute_result"
    }
   ],
   "source": [
    "#20th question\n",
    "import pandas as pd\n",
    "d={\"Name\" : [\"Arun\" , \"Amog\" , \"ROhan\"] ,\n",
    "      \"math\" : [67,77,78] , \n",
    "      \"ss\" : [88,78,66] ,\n",
    "      \"DSA\" : [78,90,97]}\n",
    "df= pd.DataFrame(d)\n",
    "df"
   ]
  },
  {
   "cell_type": "code",
   "execution_count": 29,
   "id": "5b1461bc-a19f-4919-b4db-da92445ccbdc",
   "metadata": {},
   "outputs": [
    {
     "data": {
      "text/html": [
       "<div>\n",
       "<style scoped>\n",
       "    .dataframe tbody tr th:only-of-type {\n",
       "        vertical-align: middle;\n",
       "    }\n",
       "\n",
       "    .dataframe tbody tr th {\n",
       "        vertical-align: top;\n",
       "    }\n",
       "\n",
       "    .dataframe thead th {\n",
       "        text-align: right;\n",
       "    }\n",
       "</style>\n",
       "<table border=\"1\" class=\"dataframe\">\n",
       "  <thead>\n",
       "    <tr style=\"text-align: right;\">\n",
       "      <th></th>\n",
       "      <th>Name</th>\n",
       "      <th>math</th>\n",
       "      <th>ss</th>\n",
       "      <th>DSA</th>\n",
       "      <th>Total</th>\n",
       "    </tr>\n",
       "  </thead>\n",
       "  <tbody>\n",
       "    <tr>\n",
       "      <th>0</th>\n",
       "      <td>Arun</td>\n",
       "      <td>67</td>\n",
       "      <td>88</td>\n",
       "      <td>78</td>\n",
       "      <td>233</td>\n",
       "    </tr>\n",
       "    <tr>\n",
       "      <th>1</th>\n",
       "      <td>Amog</td>\n",
       "      <td>77</td>\n",
       "      <td>78</td>\n",
       "      <td>90</td>\n",
       "      <td>245</td>\n",
       "    </tr>\n",
       "    <tr>\n",
       "      <th>2</th>\n",
       "      <td>ROhan</td>\n",
       "      <td>78</td>\n",
       "      <td>66</td>\n",
       "      <td>97</td>\n",
       "      <td>241</td>\n",
       "    </tr>\n",
       "  </tbody>\n",
       "</table>\n",
       "</div>"
      ],
      "text/plain": [
       "    Name  math  ss  DSA  Total\n",
       "0   Arun    67  88   78    233\n",
       "1   Amog    77  78   90    245\n",
       "2  ROhan    78  66   97    241"
      ]
     },
     "execution_count": 29,
     "metadata": {},
     "output_type": "execute_result"
    }
   ],
   "source": [
    "df['Total'] = df.math + df.ss + df.DSA\n",
    "df"
   ]
  },
  {
   "cell_type": "code",
   "execution_count": 30,
   "id": "2298ad81-6723-4a38-a896-e1a33dfd9b9c",
   "metadata": {},
   "outputs": [
    {
     "data": {
      "text/html": [
       "<div>\n",
       "<style scoped>\n",
       "    .dataframe tbody tr th:only-of-type {\n",
       "        vertical-align: middle;\n",
       "    }\n",
       "\n",
       "    .dataframe tbody tr th {\n",
       "        vertical-align: top;\n",
       "    }\n",
       "\n",
       "    .dataframe thead th {\n",
       "        text-align: right;\n",
       "    }\n",
       "</style>\n",
       "<table border=\"1\" class=\"dataframe\">\n",
       "  <thead>\n",
       "    <tr style=\"text-align: right;\">\n",
       "      <th></th>\n",
       "      <th>Name</th>\n",
       "      <th>math</th>\n",
       "      <th>ss</th>\n",
       "      <th>DSA</th>\n",
       "      <th>Total</th>\n",
       "      <th>Grade</th>\n",
       "    </tr>\n",
       "  </thead>\n",
       "  <tbody>\n",
       "    <tr>\n",
       "      <th>0</th>\n",
       "      <td>Arun</td>\n",
       "      <td>67</td>\n",
       "      <td>88</td>\n",
       "      <td>78</td>\n",
       "      <td>233</td>\n",
       "      <td>B</td>\n",
       "    </tr>\n",
       "    <tr>\n",
       "      <th>1</th>\n",
       "      <td>Amog</td>\n",
       "      <td>77</td>\n",
       "      <td>78</td>\n",
       "      <td>90</td>\n",
       "      <td>245</td>\n",
       "      <td>B</td>\n",
       "    </tr>\n",
       "    <tr>\n",
       "      <th>2</th>\n",
       "      <td>ROhan</td>\n",
       "      <td>78</td>\n",
       "      <td>66</td>\n",
       "      <td>97</td>\n",
       "      <td>241</td>\n",
       "      <td>B</td>\n",
       "    </tr>\n",
       "  </tbody>\n",
       "</table>\n",
       "</div>"
      ],
      "text/plain": [
       "    Name  math  ss  DSA  Total Grade\n",
       "0   Arun    67  88   78    233     B\n",
       "1   Amog    77  78   90    245     B\n",
       "2  ROhan    78  66   97    241     B"
      ]
     },
     "execution_count": 30,
     "metadata": {},
     "output_type": "execute_result"
    }
   ],
   "source": [
    "df['Grade'] = df.Total > 275\n",
    "df.Grade = np.where(df.Grade == True , 'A' , 'B')\n",
    "df"
   ]
  },
  {
   "cell_type": "code",
   "execution_count": null,
   "id": "de2309ae-0a80-46bb-9db9-397f10720278",
   "metadata": {},
   "outputs": [],
   "source": [
    "+-------------------------+\n",
    "|   Humanoid Assistant    |\n",
    "|         Robot           |\n",
    "+-------------------------+\n",
    "           │\n",
    "           ├───────────► *1. Hardware Components*\n",
    "           │               - Sensors (LiDAR, cameras, microphones)\n",
    "           │               - Actuators (motors, servos)\n",
    "           │               - Processor (CPU, GPU, Edge AI)\n",
    "           │               - Power supply (batteries)\n",
    "           │\n",
    "           ├───────────► *2. Perception & Sensing*\n",
    "           │               - Computer Vision (OpenCV, YOLO, TensorFlow)\n",
    "           │               - Speech Recognition (DeepSpeech, Whisper, Vosk)\n",
    "           │               - Depth Sensing (Intel RealSense, LiDAR)\n",
    "           │\n",
    "           ├───────────► *3. Natural Language Processing*\n",
    "           │               - NLP Models (GPT, BERT, T5)\n",
    "           │               - Speech-to-Text (Whisper, Kaldi)\n",
    "           │               - Text-to-Speech (Google TTS, Festival)\n",
    "           │\n",
    "           ├───────────► *4. Movement & Navigation*\n",
    "           │               - Path Planning (A*, Dijkstra, RRT)\n",
    "           │               - Motion Control (ROS, MoveIt)\n",
    "           │               - SLAM (RTAB-Map, ORB-SLAM)\n",
    "           │\n",
    "           ├───────────► *5. Object Recognition & Interaction*\n",
    "           │               - Image Processing (OpenCV, YOLO)\n",
    "           │               - Manipulation (ROS MoveIt, PyBullet)\n",
    "           │\n",
    "           ├───────────► *6. Learning & Adaptation*\n",
    "           │               - Machine Learning (TensorFlow, PyTorch)\n",
    "           │               - Reinforcement Learning (Stable Baselines3)\n",
    "           │               - Online Learning (Federated Learning)\n",
    "           │\n",
    "           ├───────────► *7. Software & Middleware*\n",
    "           │               - Robot Operating System (ROS2)\n",
    "           │               - Edge Computing (NVIDIA Jetson, Coral TPU)\n",
    "           │               - Cloud AI Integration (AWS RoboMaker, Google AI)\n",
    "           │\n",
    "           ├───────────► *8. User Interface & Control*\n",
    "                           - Mobile/Web App (Flutter, React)\n",
    "                           - Voice Assistants (Alexa SDK, Mycroft)\n",
    "                           - Gesture Control (Leap Motion, MediaPipe)"
   ]
  }
 ],
 "metadata": {
  "kernelspec": {
   "display_name": "Python 3 (ipykernel)",
   "language": "python",
   "name": "python3"
  },
  "language_info": {
   "codemirror_mode": {
    "name": "ipython",
    "version": 3
   },
   "file_extension": ".py",
   "mimetype": "text/x-python",
   "name": "python",
   "nbconvert_exporter": "python",
   "pygments_lexer": "ipython3",
   "version": "3.11.7"
  }
 },
 "nbformat": 4,
 "nbformat_minor": 5
}
